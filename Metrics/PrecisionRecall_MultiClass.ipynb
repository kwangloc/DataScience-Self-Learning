{
 "cells": [
  {
   "cell_type": "markdown",
   "metadata": {},
   "source": [
    "- Sử dụng Precision và Recall cho bài toán phân loại nhiều lớp\n",
    "    + Micro average\n",
    "    + Macro average"
   ]
  },
  {
   "cell_type": "markdown",
   "metadata": {},
   "source": [
    "### Precision and Recall"
   ]
  },
  {
   "cell_type": "code",
   "execution_count": 1,
   "metadata": {},
   "outputs": [],
   "source": [
    "def PR(tp, fp, fn):\n",
    "    P = float(tp)/(tp + fp)\n",
    "    R = float(tp)/(tp + fn)\n",
    "    return (P, R)"
   ]
  },
  {
   "cell_type": "code",
   "execution_count": 2,
   "metadata": {},
   "outputs": [],
   "source": [
    "tp1, fp1, fn1 = 10, 5, 3\n",
    "tp2, fp2, fn2 = 17, 7, 10\n",
    "tp3, fp3, fn3 = 25, 2, 4 "
   ]
  },
  {
   "cell_type": "code",
   "execution_count": 3,
   "metadata": {},
   "outputs": [],
   "source": [
    "(P1, R1) = PR(tp1, fp1, fn1)\n",
    "(P2, R2) = PR(tp2, fp2, fn2)\n",
    "(P3, R3) = PR(tp3, fp3, fn2)"
   ]
  },
  {
   "cell_type": "code",
   "execution_count": 4,
   "metadata": {},
   "outputs": [
    {
     "name": "stdout",
     "output_type": "stream",
     "text": [
      "(P1, R1) = (0.67, 0.77)\n",
      "(P2, R2) = (0.71, 0.63)\n",
      "(P3, R3) = (0.93, 0.71)\n"
     ]
    }
   ],
   "source": [
    "print('(P1, R1) = (%.2f, %.2f)'%(P1, R1))\n",
    "print('(P2, R2) = (%.2f, %.2f)'%(P2, R2))\n",
    "print('(P3, R3) = (%.2f, %.2f)'%(P3, R3))"
   ]
  },
  {
   "cell_type": "markdown",
   "metadata": {},
   "source": [
    "### Micro average"
   ]
  },
  {
   "cell_type": "code",
   "execution_count": 5,
   "metadata": {},
   "outputs": [
    {
     "name": "stdout",
     "output_type": "stream",
     "text": [
      "(micro_ap, micro_ar) = (0.79, 0.75)\n"
     ]
    }
   ],
   "source": [
    "total_tp = tp1 + tp2 + tp3\n",
    "total_fp = fp1 + fp2 + fp3 \n",
    "total_fn = fn1 + fn2 + fn3 \n",
    "micro_ap = float(total_tp)/(total_tp + total_fp)\n",
    "micro_ar = float(total_tp)/(total_tp + total_fn)\n",
    "print('(micro_ap, micro_ar) = (%.2f, %.2f)' % (micro_ap, micro_ar))"
   ]
  },
  {
   "cell_type": "markdown",
   "metadata": {},
   "source": [
    "### Macro average"
   ]
  },
  {
   "cell_type": "code",
   "execution_count": 6,
   "metadata": {},
   "outputs": [
    {
     "name": "stdout",
     "output_type": "stream",
     "text": [
      "(micro_ap, micro_ar) = (0.77, 0.70)\n"
     ]
    }
   ],
   "source": [
    "macro_ap = (P1 + P2 + P3)/3\n",
    "macro_ar = (R1 + R2 + R3)/3\n",
    "print('(micro_ap, micro_ar) = (%.2f, %.2f)' % (macro_ap, macro_ar))"
   ]
  }
 ],
 "metadata": {
  "kernelspec": {
   "display_name": "Python 3",
   "language": "python",
   "name": "python3"
  },
  "language_info": {
   "codemirror_mode": {
    "name": "ipython",
    "version": 3
   },
   "file_extension": ".py",
   "mimetype": "text/x-python",
   "name": "python",
   "nbconvert_exporter": "python",
   "pygments_lexer": "ipython3",
   "version": "3.12.2"
  }
 },
 "nbformat": 4,
 "nbformat_minor": 2
}
